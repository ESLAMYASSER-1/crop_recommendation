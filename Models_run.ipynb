{
 "cells": [
  {
   "cell_type": "code",
   "execution_count": 1,
   "id": "925ec2e6-45bc-4a18-895e-a2358f3a6c34",
   "metadata": {},
   "outputs": [],
   "source": [
    "import joblib"
   ]
  },
  {
   "cell_type": "markdown",
   "id": "56843119-91a4-463f-9ad9-01288f2a0479",
   "metadata": {},
   "source": [
    "# Decision tree"
   ]
  },
  {
   "cell_type": "code",
   "execution_count": 2,
   "id": "310ebf1a-95e0-4ef7-90a9-20654bb842bc",
   "metadata": {},
   "outputs": [],
   "source": [
    "DT= joblib.load(\"./Models/Decision_Tree_model.pkl\")"
   ]
  },
  {
   "cell_type": "code",
   "execution_count": null,
   "id": "e890e28e-e4a9-4501-8fae-bfb54468ad9d",
   "metadata": {},
   "outputs": [],
   "source": []
  },
  {
   "cell_type": "markdown",
   "id": "63f93a48-4406-4ad5-b37e-76f50ab409db",
   "metadata": {},
   "source": [
    "***"
   ]
  },
  {
   "cell_type": "markdown",
   "id": "734a4b75-bb88-4abf-9289-3b4a1440b44c",
   "metadata": {},
   "source": [
    "# Support Vector Machine"
   ]
  },
  {
   "cell_type": "code",
   "execution_count": 3,
   "id": "d03ebb2d-d015-451f-95e3-5dc7e80c0328",
   "metadata": {},
   "outputs": [],
   "source": [
    "SVM = joblib.load(\"./Models/SVM_model.pkl\")"
   ]
  },
  {
   "cell_type": "code",
   "execution_count": null,
   "id": "628e2885-7bcb-4326-ab2c-eb5900bade60",
   "metadata": {},
   "outputs": [],
   "source": []
  },
  {
   "cell_type": "markdown",
   "id": "623c8293-f93d-4fb6-ac10-8b8c6e9b00a4",
   "metadata": {},
   "source": [
    "***"
   ]
  },
  {
   "cell_type": "markdown",
   "id": "b23f27bb-bc28-4592-ad77-0ec49dda8f23",
   "metadata": {},
   "source": [
    "# Logistic Regression"
   ]
  },
  {
   "cell_type": "code",
   "execution_count": 4,
   "id": "92a1838c-d5dc-453b-9f65-7d2f0b10bbf8",
   "metadata": {},
   "outputs": [],
   "source": [
    "LR = joblib.load(\"./Models/LG_model.pkl\")"
   ]
  },
  {
   "cell_type": "code",
   "execution_count": null,
   "id": "ed267049-6ab0-4d81-9835-28de43b280a5",
   "metadata": {},
   "outputs": [],
   "source": []
  },
  {
   "cell_type": "markdown",
   "id": "b7c0809e-b5bd-40e8-9fdc-aca8bb6f6eaf",
   "metadata": {},
   "source": [
    "***"
   ]
  },
  {
   "cell_type": "markdown",
   "id": "542bd086-1d35-466d-8a0f-ad76e96b92a5",
   "metadata": {},
   "source": [
    "# Random Forest"
   ]
  },
  {
   "cell_type": "code",
   "execution_count": 5,
   "id": "a658d8ac-3898-42e9-84b8-04180f0721c7",
   "metadata": {},
   "outputs": [],
   "source": [
    "RF = joblib.load(\"./Models/RF_model.pkl\")"
   ]
  },
  {
   "cell_type": "code",
   "execution_count": null,
   "id": "0f9ed938-3bd3-429a-9bd4-1a51e0e527d4",
   "metadata": {},
   "outputs": [],
   "source": []
  },
  {
   "cell_type": "markdown",
   "id": "084174aa-16ea-4763-a9c3-33f6309838eb",
   "metadata": {},
   "source": [
    "***"
   ]
  },
  {
   "cell_type": "markdown",
   "id": "72a26452-0bf7-4e68-97e0-89e9e5b9eb01",
   "metadata": {},
   "source": [
    "# XGBOOST"
   ]
  },
  {
   "cell_type": "code",
   "execution_count": 6,
   "id": "f27c252a-8a74-4c5b-a8f5-e9cfd94d1db5",
   "metadata": {},
   "outputs": [],
   "source": [
    "xgb = joblib.load(\"./Models/XGBoost_model.pkl\")"
   ]
  },
  {
   "cell_type": "code",
   "execution_count": null,
   "id": "b989452e-a38d-4ef0-9b8b-dfc1cdc9754c",
   "metadata": {},
   "outputs": [],
   "source": []
  },
  {
   "cell_type": "markdown",
   "id": "8a374295-171d-46a1-af2e-e4b6d74bc260",
   "metadata": {},
   "source": [
    "***"
   ]
  },
  {
   "cell_type": "markdown",
   "id": "1f5dd4a0-e5e5-4c52-ab69-c0a3ec9848f2",
   "metadata": {},
   "source": [
    "# DNN"
   ]
  },
  {
   "cell_type": "code",
   "execution_count": 7,
   "id": "57506dd0-9a9e-4c02-bcb2-fd331efdb83e",
   "metadata": {},
   "outputs": [],
   "source": [
    "import torch \n",
    "class NeuralNet(torch.nn.Module):\n",
    "    def __init__(self, device):\n",
    "        super(NeuralNet, self).__init__()\n",
    "        self.fc1 = torch.nn.Linear(7, 64).to(device)  \n",
    "        self.fc2 = torch.nn.Linear(64, 30).to(device)  \n",
    "        self.fc3 = torch.nn.Linear(30, 22).to(device)  \n",
    "        \n",
    "    def forward(self, x):\n",
    "        x = torch.relu(self.fc1(x))  \n",
    "        x = torch.relu(self.fc2(x))  \n",
    "        x = self.fc3(x)\n",
    "        return x\n"
   ]
  },
  {
   "cell_type": "code",
   "execution_count": 9,
   "id": "cf8c32e3-dcf4-476f-b7d4-6c72ca4bb3dd",
   "metadata": {},
   "outputs": [
    {
     "data": {
      "text/plain": [
       "NeuralNet(\n",
       "  (fc1): Linear(in_features=7, out_features=64, bias=True)\n",
       "  (fc2): Linear(in_features=64, out_features=30, bias=True)\n",
       "  (fc3): Linear(in_features=30, out_features=22, bias=True)\n",
       ")"
      ]
     },
     "execution_count": 9,
     "metadata": {},
     "output_type": "execute_result"
    }
   ],
   "source": [
    "DNN = torch.load(\"./Models/DNN.pt\")\n",
    "DNN.eval()"
   ]
  },
  {
   "cell_type": "code",
   "execution_count": null,
   "id": "e5ed31d5-037f-48e5-bae1-27691ae495e7",
   "metadata": {},
   "outputs": [],
   "source": []
  },
  {
   "cell_type": "markdown",
   "id": "aa9057d1-2fb9-47c3-83b9-aacf3420603f",
   "metadata": {},
   "source": [
    "***"
   ]
  }
 ],
 "metadata": {
  "kernelspec": {
   "display_name": "Python 3 (ipykernel)",
   "language": "python",
   "name": "python3"
  },
  "language_info": {
   "codemirror_mode": {
    "name": "ipython",
    "version": 3
   },
   "file_extension": ".py",
   "mimetype": "text/x-python",
   "name": "python",
   "nbconvert_exporter": "python",
   "pygments_lexer": "ipython3",
   "version": "3.11.7"
  }
 },
 "nbformat": 4,
 "nbformat_minor": 5
}
